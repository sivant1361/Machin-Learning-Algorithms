{
 "cells": [
  {
   "cell_type": "code",
   "execution_count": 1,
   "metadata": {},
   "outputs": [],
   "source": [
    "import matplotlib.pyplot as p\n",
    "import seaborn as s\n",
    "from sklearn.cluster import KMeans as k\n",
    "import numpy as n\n",
    "%matplotlib inline"
   ]
  },
  {
   "cell_type": "code",
   "execution_count": 2,
   "metadata": {},
   "outputs": [
    {
     "data": {
      "text/plain": [
       "array([[ 0.38258388,  0.46877386],\n",
       "       [ 0.23458613,  0.76227004],\n",
       "       [ 0.90821489,  0.20930223],\n",
       "       [ 0.22455743,  0.15854371],\n",
       "       [ 0.77168958,  0.60030934],\n",
       "       [ 0.21369021,  0.38833181],\n",
       "       [ 0.58923684,  0.3157489 ],\n",
       "       [ 0.11575384,  0.94628956],\n",
       "       [ 0.20243079,  0.79115313],\n",
       "       [ 0.28490609,  0.83217374],\n",
       "       [ 0.22288831,  0.38015851],\n",
       "       [ 0.83223625,  0.69033116],\n",
       "       [ 0.7042954 ,  0.76445343],\n",
       "       [ 0.39135499,  0.36290086],\n",
       "       [ 0.93710406,  0.13438168],\n",
       "       [ 0.84496024,  0.23221871],\n",
       "       [ 0.051214  ,  0.28691648],\n",
       "       [ 0.05750212,  0.51230871],\n",
       "       [ 0.19809969,  0.64897787],\n",
       "       [ 0.73287877,  0.42548688],\n",
       "       [ 0.27346572,  0.54667803],\n",
       "       [ 0.06425063,  0.29188683],\n",
       "       [ 0.28422029,  0.13878049],\n",
       "       [ 0.43621774,  0.9974945 ],\n",
       "       [ 0.85307309,  0.49327982],\n",
       "       [-0.04603781, -0.75355482],\n",
       "       [-0.51052471, -0.57140072],\n",
       "       [-0.17541843, -0.9254887 ],\n",
       "       [-0.53681009, -0.69127226],\n",
       "       [-0.31486589, -0.39397624],\n",
       "       [-0.51432309, -0.70520042],\n",
       "       [-0.83193524, -0.52652158],\n",
       "       [-0.94059392, -0.15038868],\n",
       "       [-0.13919016, -0.04686501],\n",
       "       [-0.80524921, -0.97619997],\n",
       "       [-0.75024565, -0.51088043],\n",
       "       [-0.80487732, -0.80705666],\n",
       "       [-0.54950207, -0.54772918],\n",
       "       [-0.39357247, -0.11191123],\n",
       "       [-0.06854694, -0.65259158],\n",
       "       [-0.01124876, -0.6949441 ],\n",
       "       [-0.6153537 , -0.74639625],\n",
       "       [-0.84030449, -0.15341566],\n",
       "       [-0.56975378, -0.75902656],\n",
       "       [-0.95714185, -0.28494181],\n",
       "       [-0.13101339, -0.3074405 ],\n",
       "       [-0.99262164, -0.19542029],\n",
       "       [-0.84126801, -0.12629963],\n",
       "       [-0.77719596, -0.23397627],\n",
       "       [-0.28857659, -0.74444047]])"
      ]
     },
     "execution_count": 2,
     "metadata": {},
     "output_type": "execute_result"
    }
   ],
   "source": [
    "x=n.random.rand(50,2)\n",
    "#y=n.random.rand(50)*80\n",
    "for i in range(25,50):\n",
    "    x[i][:]=x[i][:]*-1\n",
    "x"
   ]
  },
  {
   "cell_type": "code",
   "execution_count": 3,
   "metadata": {},
   "outputs": [
    {
     "data": {
      "text/plain": [
       "<matplotlib.axes._subplots.AxesSubplot at 0x239b596ecf8>"
      ]
     },
     "execution_count": 3,
     "metadata": {},
     "output_type": "execute_result"
    },
    {
     "data": {
      "image/png": "[encoded data removed]",
      "text/plain": [
       "<Figure size 432x288 with 1 Axes>"
      ]
     },
     "metadata": {
      "needs_background": "light"
     },
     "output_type": "display_data"
    }
   ],
   "source": [
    "s.swarmplot(x[:,0],x[:,1],s=13)"
   ]
  },
  {
   "cell_type": "code",
   "execution_count": 4,
   "metadata": {},
   "outputs": [],
   "source": [
    "km=k(n_clusters=2)"
   ]
  },
  {
   "cell_type": "code",
   "execution_count": 5,
   "metadata": {},
   "outputs": [
    {
     "data": {
      "text/plain": [
       "KMeans(algorithm='auto', copy_x=True, init='k-means++', max_iter=300,\n",
       "       n_clusters=2, n_init=10, n_jobs=None, precompute_distances='auto',\n",
       "       random_state=None, tol=0.0001, verbose=0)"
      ]
     },
     "execution_count": 5,
     "metadata": {},
     "output_type": "execute_result"
    }
   ],
   "source": [
    "km.fit(x)"
   ]
  },
  {
   "cell_type": "code",
   "execution_count": 6,
   "metadata": {},
   "outputs": [
    {
     "data": {
      "text/plain": [
       "array([[ 0.43245644,  0.49516601],\n",
       "       [-0.53624685, -0.50469356]])"
      ]
     },
     "execution_count": 6,
     "metadata": {},
     "output_type": "execute_result"
    }
   ],
   "source": [
    "centres=km.cluster_centers_\n",
    "centres"
   ]
  },
  {
   "cell_type": "code",
   "execution_count": 7,
   "metadata": {},
   "outputs": [
    {
     "data": {
      "text/plain": [
       "<matplotlib.collections.PathCollection at 0x239b623c630>"
      ]
     },
     "execution_count": 7,
     "metadata": {},
     "output_type": "execute_result"
    },
    {
     "data": {
      "image/png": "[encoded data removed]",
      "text/plain": [
       "<Figure size 432x288 with 1 Axes>"
      ]
     },
     "metadata": {
      "needs_background": "light"
     },
     "output_type": "display_data"
    }
   ],
   "source": [
    "p.scatter(x[:,0],x[:,1],cmap=\"magma\")\n",
    "\n",
    "p.scatter(centres[:,0],centres[:,1],c=\"green\",s=150)\n"
   ]
  },
  {
   "cell_type": "code",
   "execution_count": null,
   "metadata": {},
   "outputs": [],
   "source": []
  }
 ],
 "metadata": {
  "kernelspec": {
   "display_name": "Python 3",
   "language": "python",
   "name": "python3"
  },
  "language_info": {
   "codemirror_mode": {
    "name": "ipython",
    "version": 3
   },
   "file_extension": ".py",
   "mimetype": "text/x-python",
   "name": "python",
   "nbconvert_exporter": "python",
   "pygments_lexer": "ipython3",
   "version": "3.7.3"
  }
 },
 "nbformat": 4,
 "nbformat_minor": 2
}
